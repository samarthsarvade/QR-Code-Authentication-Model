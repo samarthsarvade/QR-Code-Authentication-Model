{
 "cells": [
  {
   "cell_type": "code",
   "execution_count": null,
   "metadata": {
    "vscode": {
     "languageId": "plaintext"
    }
   },
   "outputs": [],
   "source": [
    "# notebooks/data_exploration.ipynb\n",
    "import os\n",
    "import cv2\n",
    "import numpy as np\n",
    "import matplotlib.pyplot as plt\n",
    "import seaborn as sns\n",
    "\n",
    "# Define dataset path\n",
    "dataset_path = r\"E:\\Projects\\QR Code Authentication Model\\dataset\"\n",
    "first_print_path = os.path.join(dataset_path, \"First_Print\")\n",
    "second_print_path = os.path.join(dataset_path, \"Second_Print\")\n",
    "\n",
    "def load_image_paths(folder):\n",
    "    return [os.path.join(folder, file) for file in os.listdir(folder) if file.lower().endswith(('.png', '.jpg', '.jpeg'))]\n",
    "\n",
    "first_images = load_image_paths(first_print_path)\n",
    "second_images = load_image_paths(second_print_path)\n",
    "\n",
    "print(\"Number of First Print images:\", len(first_images))\n",
    "print(\"Number of Second Print images:\", len(second_images))\n",
    "\n",
    "# Visualize some sample images\n",
    "def show_samples(image_paths, title, num_samples=4):\n",
    "    plt.figure(figsize=(10, 10))\n",
    "    for i, img_path in enumerate(image_paths[:num_samples]):\n",
    "        img = cv2.imread(img_path)\n",
    "        img = cv2.cvtColor(img, cv2.COLOR_BGR2RGB)\n",
    "        plt.subplot(1, num_samples, i+1)\n",
    "        plt.imshow(img)\n",
    "        plt.title(title)\n",
    "        plt.axis('off')\n",
    "    plt.show()\n",
    "\n",
    "show_samples(first_images, \"First Print\")\n",
    "show_samples(second_images, \"Second Print\")\n",
    "\n",
    "# Plot image dimensions distribution\n",
    "def get_image_dims(image_paths):\n",
    "    dims = []\n",
    "    for path in image_paths:\n",
    "        img = cv2.imread(path)\n",
    "        dims.append(img.shape[:2])\n",
    "    return dims\n",
    "\n",
    "dims_first = get_image_dims(first_images)\n",
    "dims_second = get_image_dims(second_images)\n",
    "\n",
    "# Convert dimensions to separate lists for height and width\n",
    "h_first, w_first = zip(*dims_first)\n",
    "h_second, w_second = zip(*dims_second)\n",
    "\n",
    "sns.kdeplot(h_first, label=\"First Print Height\", shade=True)\n",
    "sns.kdeplot(h_second, label=\"Second Print Height\", shade=True)\n",
    "plt.legend()\n",
    "plt.title(\"Distribution of Image Heights\")\n",
    "plt.show()\n"
   ]
  }
 ],
 "metadata": {
  "language_info": {
   "name": "python"
  }
 },
 "nbformat": 4,
 "nbformat_minor": 2
}
